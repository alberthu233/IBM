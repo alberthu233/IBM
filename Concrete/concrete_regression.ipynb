{
 "cells": [
  {
   "cell_type": "code",
   "execution_count": 3,
   "metadata": {},
   "outputs": [
    {
     "name": "stdout",
     "output_type": "stream",
     "text": [
      "Num GPUs Available:  1\n"
     ]
    }
   ],
   "source": [
    "import pandas as pd\n",
    "import numpy as np\n",
    "import matplotlib.pyplot as plt\n",
    "import time as t\n",
    "import os\n",
    "import sys\n",
    "import tensorflow as tf\n",
    "print(\"Num GPUs Available: \", len(tf.config.list_physical_devices('GPU')))\n",
    "from tensorflow import keras\n",
    "from keras.models import Sequential\n",
    "from keras.layers import Input, Dense, Dropout\n",
    "from sklearn.metrics import mean_squared_error\n",
    "from sklearn.model_selection import train_test_split"
   ]
  },
  {
   "cell_type": "code",
   "execution_count": 2,
   "metadata": {},
   "outputs": [
    {
     "data": {
      "text/html": [
       "<div>\n",
       "<style scoped>\n",
       "    .dataframe tbody tr th:only-of-type {\n",
       "        vertical-align: middle;\n",
       "    }\n",
       "\n",
       "    .dataframe tbody tr th {\n",
       "        vertical-align: top;\n",
       "    }\n",
       "\n",
       "    .dataframe thead th {\n",
       "        text-align: right;\n",
       "    }\n",
       "</style>\n",
       "<table border=\"1\" class=\"dataframe\">\n",
       "  <thead>\n",
       "    <tr style=\"text-align: right;\">\n",
       "      <th></th>\n",
       "      <th>Cement</th>\n",
       "      <th>Blast Furnace Slag</th>\n",
       "      <th>Fly Ash</th>\n",
       "      <th>Water</th>\n",
       "      <th>Superplasticizer</th>\n",
       "      <th>Coarse Aggregate</th>\n",
       "      <th>Fine Aggregate</th>\n",
       "      <th>Age</th>\n",
       "      <th>Strength</th>\n",
       "    </tr>\n",
       "  </thead>\n",
       "  <tbody>\n",
       "    <tr>\n",
       "      <th>0</th>\n",
       "      <td>540.0</td>\n",
       "      <td>0.0</td>\n",
       "      <td>0.0</td>\n",
       "      <td>162.0</td>\n",
       "      <td>2.5</td>\n",
       "      <td>1040.0</td>\n",
       "      <td>676.0</td>\n",
       "      <td>28</td>\n",
       "      <td>79.99</td>\n",
       "    </tr>\n",
       "    <tr>\n",
       "      <th>1</th>\n",
       "      <td>540.0</td>\n",
       "      <td>0.0</td>\n",
       "      <td>0.0</td>\n",
       "      <td>162.0</td>\n",
       "      <td>2.5</td>\n",
       "      <td>1055.0</td>\n",
       "      <td>676.0</td>\n",
       "      <td>28</td>\n",
       "      <td>61.89</td>\n",
       "    </tr>\n",
       "    <tr>\n",
       "      <th>2</th>\n",
       "      <td>332.5</td>\n",
       "      <td>142.5</td>\n",
       "      <td>0.0</td>\n",
       "      <td>228.0</td>\n",
       "      <td>0.0</td>\n",
       "      <td>932.0</td>\n",
       "      <td>594.0</td>\n",
       "      <td>270</td>\n",
       "      <td>40.27</td>\n",
       "    </tr>\n",
       "    <tr>\n",
       "      <th>3</th>\n",
       "      <td>332.5</td>\n",
       "      <td>142.5</td>\n",
       "      <td>0.0</td>\n",
       "      <td>228.0</td>\n",
       "      <td>0.0</td>\n",
       "      <td>932.0</td>\n",
       "      <td>594.0</td>\n",
       "      <td>365</td>\n",
       "      <td>41.05</td>\n",
       "    </tr>\n",
       "    <tr>\n",
       "      <th>4</th>\n",
       "      <td>198.6</td>\n",
       "      <td>132.4</td>\n",
       "      <td>0.0</td>\n",
       "      <td>192.0</td>\n",
       "      <td>0.0</td>\n",
       "      <td>978.4</td>\n",
       "      <td>825.5</td>\n",
       "      <td>360</td>\n",
       "      <td>44.30</td>\n",
       "    </tr>\n",
       "  </tbody>\n",
       "</table>\n",
       "</div>"
      ],
      "text/plain": [
       "   Cement  Blast Furnace Slag  Fly Ash  Water  Superplasticizer  \\\n",
       "0   540.0                 0.0      0.0  162.0               2.5   \n",
       "1   540.0                 0.0      0.0  162.0               2.5   \n",
       "2   332.5               142.5      0.0  228.0               0.0   \n",
       "3   332.5               142.5      0.0  228.0               0.0   \n",
       "4   198.6               132.4      0.0  192.0               0.0   \n",
       "\n",
       "   Coarse Aggregate  Fine Aggregate  Age  Strength  \n",
       "0            1040.0           676.0   28     79.99  \n",
       "1            1055.0           676.0   28     61.89  \n",
       "2             932.0           594.0  270     40.27  \n",
       "3             932.0           594.0  365     41.05  \n",
       "4             978.4           825.5  360     44.30  "
      ]
     },
     "execution_count": 2,
     "metadata": {},
     "output_type": "execute_result"
    }
   ],
   "source": [
    "# Read data\n",
    "df = pd.read_csv('concrete_data.csv')\n",
    "df.head()"
   ]
  },
  {
   "cell_type": "code",
   "execution_count": 5,
   "metadata": {},
   "outputs": [],
   "source": [
    "# select x and y\n",
    "x = df[['Cement','Blast Furnace Slag','Fly Ash','Water','Superplasticizer','Coarse Aggregate','Fine Aggregate']]\n",
    "y = df['Strength']"
   ]
  },
  {
   "cell_type": "code",
   "execution_count": 6,
   "metadata": {},
   "outputs": [
    {
     "name": "stdout",
     "output_type": "stream",
     "text": [
      "Mean of MSE:  152.54744977183503\n",
      "Standard Deviation of MSE:  42.90452356444254\n"
     ]
    }
   ],
   "source": [
    "# one hidden layer of 10 neurons, relu activation frunction, adam optimizer, and MSE loss function\n",
    "# evaluate model_1 with sklearn mse metric\n",
    "# repeat this traning for 50 time, create a list of 50 mean squared error values\n",
    "\n",
    "# define model 1\n",
    "model_1 = Sequential()\n",
    "model_1.add(Dense(10, activation='relu', input_dim=7))\n",
    "model_1.add(Dense(1))\n",
    "model_1.compile(optimizer='adam', loss='mse')\n",
    "\n",
    "mse = []\n",
    "for i in range(50):\n",
    "    # train test and validation split\n",
    "    x_train, x_test, y_train, y_test = train_test_split(x, y, test_size=0.3)\n",
    "    model_1.fit(x_train, y_train, epochs=50, verbose=0)\n",
    "    mse.append(mean_squared_error(y_test, model_1.predict(x_test)))\n",
    "\n",
    "# print mean of mse and standard deviation of mse\n",
    "print(\"Mean of MSE: \", np.mean(mse))\n",
    "print(\"Standard Deviation of MSE: \", np.std(mse))"
   ]
  },
  {
   "cell_type": "code",
   "execution_count": 7,
   "metadata": {},
   "outputs": [],
   "source": [
    "# normalize x and take log of y\n",
    "x = (x - x.mean()) / x.std()\n",
    "y = np.log(y)"
   ]
  },
  {
   "cell_type": "code",
   "execution_count": 9,
   "metadata": {},
   "outputs": [
    {
     "name": "stdout",
     "output_type": "stream",
     "text": [
      "Mean of MSE:  0.16859688075052617\n",
      "Standard Deviation of MSE:  0.0412356164208611\n"
     ]
    }
   ],
   "source": [
    "# repeat the same process as model_1 and use the normalized x and y\n",
    "\n",
    "# define model_2\n",
    "model_2 = Sequential()\n",
    "model_2.add(Dense(10, activation='relu', input_dim=7))\n",
    "model_2.add(Dense(1))\n",
    "model_2.compile(optimizer='adam', loss='mse')\n",
    "\n",
    "mse_2 = []\n",
    "for i in range(50):\n",
    "    # train test and validation split\n",
    "    x_train, x_test, y_train, y_test = train_test_split(x, y, test_size=0.3)\n",
    "    model_2.fit(x_train, y_train, epochs=50, verbose=0)\n",
    "    mse_2.append(mean_squared_error(y_test, model_2.predict(x_test)))\n",
    "\n",
    "# print mean of mse and standard deviation of mse\n",
    "print(\"Mean of MSE: \", np.mean(mse_2))\n",
    "print(\"Standard Deviation of MSE: \", np.std(mse_2))"
   ]
  },
  {
   "cell_type": "code",
   "execution_count": 10,
   "metadata": {},
   "outputs": [
    {
     "name": "stdout",
     "output_type": "stream",
     "text": [
      "Mean of MSE:  0.1540167841661899\n",
      "Standard Deviation of MSE:  0.01567937780164511\n"
     ]
    }
   ],
   "source": [
    "# define model_3\n",
    "# repeat the same process as model_2 and increase the epochs to 100\n",
    "mse_3 = []\n",
    "\n",
    "model_3 = Sequential()\n",
    "model_3.add(Dense(10, activation='relu', input_dim=7))\n",
    "model_3.add(Dense(1))\n",
    "model_3.compile(optimizer='adam', loss='mse')\n",
    "\n",
    "for i in range(50):\n",
    "    # train test and validation split\n",
    "    x_train, x_test, y_train, y_test = train_test_split(x, y, test_size=0.3)\n",
    "    model_3.fit(x_train, y_train, epochs=100, verbose=0)\n",
    "    mse_3.append(mean_squared_error(y_test, model_3.predict(x_test)))\n",
    "\n",
    "# print mean of mse and standard deviation of mse\n",
    "print(\"Mean of MSE: \", np.mean(mse_3))\n",
    "print(\"Standard Deviation of MSE: \", np.std(mse_3))"
   ]
  },
  {
   "cell_type": "code",
   "execution_count": 11,
   "metadata": {},
   "outputs": [
    {
     "name": "stdout",
     "output_type": "stream",
     "text": [
      "Mean of MSE:  0.16169189486862925\n",
      "Standard Deviation of MSE:  0.01758100834908425\n"
     ]
    }
   ],
   "source": [
    "# define model_4\n",
    "# repeat the same process as model_3 and increase the hidden layer to 3 and the neurons to 10\n",
    "mse_4 = []\n",
    "\n",
    "model_4 = Sequential()\n",
    "model_4.add(Dense(10, activation='relu', input_dim=7))\n",
    "model_4.add(Dense(10, activation='relu'))\n",
    "model_4.add(Dense(10, activation='relu'))\n",
    "model_4.add(Dense(1))\n",
    "model_4.compile(optimizer='adam', loss='mse')\n",
    "\n",
    "for i in range(50):\n",
    "    # train test and validation split\n",
    "    x_train, x_test, y_train, y_test = train_test_split(x, y, test_size=0.3)\n",
    "    model_4.fit(x_train, y_train, epochs=100, verbose=0)\n",
    "    mse_4.append(mean_squared_error(y_test, model_4.predict(x_test)))\n",
    "\n",
    "# print mean of mse and standard deviation of mse\n",
    "print(\"Mean of MSE: \", np.mean(mse_4))\n",
    "print(\"Standard Deviation of MSE: \", np.std(mse_4))"
   ]
  }
 ],
 "metadata": {
  "kernelspec": {
   "display_name": "Python 3.8.12 ('tensorflow-gpu')",
   "language": "python",
   "name": "python3"
  },
  "language_info": {
   "codemirror_mode": {
    "name": "ipython",
    "version": 3
   },
   "file_extension": ".py",
   "mimetype": "text/x-python",
   "name": "python",
   "nbconvert_exporter": "python",
   "pygments_lexer": "ipython3",
   "version": "3.8.12"
  },
  "orig_nbformat": 4,
  "vscode": {
   "interpreter": {
    "hash": "e2f6deba557dc7d8d1b4cf161216c8920ae0cc2d6a027649b4e5d7481f4460e1"
   }
  }
 },
 "nbformat": 4,
 "nbformat_minor": 2
}
